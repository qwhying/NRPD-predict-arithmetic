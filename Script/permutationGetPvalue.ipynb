{
 "cells": [
  {
   "attachments": {},
   "cell_type": "markdown",
   "metadata": {},
   "source": [
    "get permutation p values"
   ]
  },
  {
   "cell_type": "code",
   "execution_count": 4,
   "metadata": {},
   "outputs": [
    {
     "name": "stdout",
     "output_type": "stream",
     "text": [
      "Mean R-z: 0.22255420231832654\n",
      "Standard error of R-z: 0.06167141839433779\n",
      "One-sided p-value for mean R-z: 0.003\n"
     ]
    }
   ],
   "source": [
    "import numpy as np\n",
    "import pandas as pd\n",
    "\n",
    "# Path settings\n",
    "data_dir = 'path_to_data'  # Base directory for data\n",
    "\n",
    "script_dir = f\"{data_dir}/Script\"  # Directory for scripts\n",
    "\n",
    "permutation_dir = f\"{data_dir}/Result/permutation\"  # Directory for permutation results\n",
    "\n",
    "decode_type = \"BIPSDistance\"  # Type of decoding used\n",
    "\n",
    "# List of subjects\n",
    "subject_list = ['sub-01', 'sub-02', 'sub-03']\n",
    "\n",
    "# Load permutation results\n",
    "permutation_result = pd.read_excel(f\"{permutation_dir}/{decode_type}/accuracy.xlsx\")\n",
    "\n",
    "# Create DataFrame to store permutation results\n",
    "permutation_table = pd.DataFrame(columns=['iteration', 'mean_acc', 'R-z(mean__acc)'])\n",
    "\n",
    "# Number of iterations for permutation testing\n",
    "iterations = 1000\n",
    "for iter in range(1, iterations + 1):\n",
    "    data_i = permutation_result[permutation_result['permutation_step'] == iter]\n",
    "\n",
    "    # Calculate mean accuracy and R-z for each iteration\n",
    "    permutation_table.loc[iter - 1] = [iter, data_i['mean_acc'].mean(), data_i['R-z(mean__acc)'].mean()]\n",
    "\n",
    "# Save permutation results to CSV file\n",
    "permutation_table.to_csv(f\"{permutation_dir}/permutation_table.csv\", index=False)\n",
    "\n",
    "# Load sample accuracy table\n",
    "sample_table_path = f\"{data_dir}/Result/{decode_type}/accuracy.xlsx\"\n",
    "sample_table = pd.read_excel(sample_table_path)\n",
    "\n",
    "\n",
    "# Compute Fisher's z transformation for correlation values\n",
    "sample_table['R-z(mean__acc)'] = np.arctanh(sample_table['mean_acc'])\n",
    "\n",
    "# Calculate p-values for Fisher's z values\n",
    "paccR = (sum(sample_table['mean_acc'].mean() < permutation_table['mean_acc']) +\n",
    "         sum(-sample_table['mean_acc'].mean() > permutation_table['mean_acc'])) / 1000\n",
    "pRz = (sum(sample_table['R-z(mean__acc)'].mean() < permutation_table['R-z(mean__acc)']) +\n",
    "       sum(-sample_table['R-z(mean__acc)'].mean() > permutation_table['R-z(mean__acc)'])) / 1000\n",
    "\n",
    "# Calculate one-sided p-values\n",
    "paccROne = (sum(sample_table['mean_acc'].mean() < permutation_table['mean_acc'])) / 1000\n",
    "pRzOne = (sum(sample_table['R-z(mean__acc)'].mean() < permutation_table['R-z(mean__acc)'])) / 1000\n",
    "\n",
    "# Print results\n",
    "print(f\"Mean R-z: {sample_table['R-z(mean__acc)'].mean()}\")\n",
    "print(f\"Standard error of R-z: {sample_table['R-z'].sem()}\")\n",
    "print(f\"One-sided p-value for mean R-z: {pRzOne}\")\n"
   ]
  }
 ],
 "metadata": {
  "kernelspec": {
   "display_name": "base",
   "language": "python",
   "name": "python3"
  },
  "language_info": {
   "codemirror_mode": {
    "name": "ipython",
    "version": 3
   },
   "file_extension": ".py",
   "mimetype": "text/x-python",
   "name": "python",
   "nbconvert_exporter": "python",
   "pygments_lexer": "ipython3",
   "version": "3.11.5"
  },
  "orig_nbformat": 4
 },
 "nbformat": 4,
 "nbformat_minor": 2
}
